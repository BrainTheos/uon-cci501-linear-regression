{
 "cells": [
  {
   "cell_type": "markdown",
   "id": "actual-trademark",
   "metadata": {
    "papermill": {
     "duration": 0.012028,
     "end_time": "2021-07-13T18:48:10.861012",
     "exception": false,
     "start_time": "2021-07-13T18:48:10.848984",
     "status": "completed"
    },
    "tags": []
   },
   "source": [
    "\n",
    "\n",
    "# Import helpful libraries\n"
   ]
  },
  {
   "cell_type": "code",
   "execution_count": 1,
   "id": "bright-cherry",
   "metadata": {
    "execution": {
     "iopub.execute_input": "2021-07-13T18:48:10.888690Z",
     "iopub.status.busy": "2021-07-13T18:48:10.887510Z",
     "iopub.status.idle": "2021-07-13T18:48:12.214403Z",
     "shell.execute_reply": "2021-07-13T18:48:12.213625Z",
     "shell.execute_reply.started": "2021-07-13T18:08:55.538164Z"
    },
    "papermill": {
     "duration": 1.342093,
     "end_time": "2021-07-13T18:48:12.214614",
     "exception": false,
     "start_time": "2021-07-13T18:48:10.872521",
     "status": "completed"
    },
    "tags": []
   },
   "outputs": [],
   "source": [
    "# data preprocessing useful libraries\n",
    "import numpy as np\n",
    "import pandas as pd\n"
   ]
  },
  {
   "cell_type": "markdown",
   "id": "ultimate-silver",
   "metadata": {
    "papermill": {
     "duration": 0.01151,
     "end_time": "2021-07-13T18:48:12.237670",
     "exception": false,
     "start_time": "2021-07-13T18:48:12.226160",
     "status": "completed"
    },
    "tags": []
   },
   "source": [
    "# Load the data\n"
   ]
  },
  {
   "cell_type": "code",
   "execution_count": 4,
   "id": "composite-kingdom",
   "metadata": {
    "execution": {
     "iopub.execute_input": "2021-07-13T18:48:12.267605Z",
     "iopub.status.busy": "2021-07-13T18:48:12.266928Z",
     "iopub.status.idle": "2021-07-13T18:48:16.972261Z",
     "shell.execute_reply": "2021-07-13T18:48:16.971586Z",
     "shell.execute_reply.started": "2021-07-13T18:08:56.768480Z"
    },
    "papermill": {
     "duration": 4.722556,
     "end_time": "2021-07-13T18:48:16.972416",
     "exception": false,
     "start_time": "2021-07-13T18:48:12.249860",
     "status": "completed"
    },
    "tags": []
   },
   "outputs": [
    {
     "data": {
      "text/html": [
       "<div>\n",
       "<style scoped>\n",
       "    .dataframe tbody tr th:only-of-type {\n",
       "        vertical-align: middle;\n",
       "    }\n",
       "\n",
       "    .dataframe tbody tr th {\n",
       "        vertical-align: top;\n",
       "    }\n",
       "\n",
       "    .dataframe thead th {\n",
       "        text-align: right;\n",
       "    }\n",
       "</style>\n",
       "<table border=\"1\" class=\"dataframe\">\n",
       "  <thead>\n",
       "    <tr style=\"text-align: right;\">\n",
       "      <th></th>\n",
       "      <th>sex</th>\n",
       "      <th>bmi</th>\n",
       "      <th>children</th>\n",
       "      <th>smoker</th>\n",
       "      <th>region</th>\n",
       "      <th>charges</th>\n",
       "    </tr>\n",
       "    <tr>\n",
       "      <th>age</th>\n",
       "      <th></th>\n",
       "      <th></th>\n",
       "      <th></th>\n",
       "      <th></th>\n",
       "      <th></th>\n",
       "      <th></th>\n",
       "    </tr>\n",
       "  </thead>\n",
       "  <tbody>\n",
       "    <tr>\n",
       "      <th>19</th>\n",
       "      <td>female</td>\n",
       "      <td>27.900</td>\n",
       "      <td>0</td>\n",
       "      <td>yes</td>\n",
       "      <td>southwest</td>\n",
       "      <td>16884.92400</td>\n",
       "    </tr>\n",
       "    <tr>\n",
       "      <th>18</th>\n",
       "      <td>male</td>\n",
       "      <td>33.770</td>\n",
       "      <td>1</td>\n",
       "      <td>no</td>\n",
       "      <td>southeast</td>\n",
       "      <td>1725.55230</td>\n",
       "    </tr>\n",
       "    <tr>\n",
       "      <th>28</th>\n",
       "      <td>male</td>\n",
       "      <td>33.000</td>\n",
       "      <td>3</td>\n",
       "      <td>no</td>\n",
       "      <td>southeast</td>\n",
       "      <td>4449.46200</td>\n",
       "    </tr>\n",
       "    <tr>\n",
       "      <th>33</th>\n",
       "      <td>male</td>\n",
       "      <td>22.705</td>\n",
       "      <td>0</td>\n",
       "      <td>no</td>\n",
       "      <td>northwest</td>\n",
       "      <td>21984.47061</td>\n",
       "    </tr>\n",
       "    <tr>\n",
       "      <th>32</th>\n",
       "      <td>male</td>\n",
       "      <td>28.880</td>\n",
       "      <td>0</td>\n",
       "      <td>no</td>\n",
       "      <td>northwest</td>\n",
       "      <td>3866.85520</td>\n",
       "    </tr>\n",
       "  </tbody>\n",
       "</table>\n",
       "</div>"
      ],
      "text/plain": [
       "        sex     bmi  children smoker     region      charges\n",
       "age                                                         \n",
       "19   female  27.900         0    yes  southwest  16884.92400\n",
       "18     male  33.770         1     no  southeast   1725.55230\n",
       "28     male  33.000         3     no  southeast   4449.46200\n",
       "33     male  22.705         0     no  northwest  21984.47061\n",
       "32     male  28.880         0     no  northwest   3866.85520"
      ]
     },
     "execution_count": 4,
     "metadata": {},
     "output_type": "execute_result"
    }
   ],
   "source": [
    "# Loading the data\n",
    "data = pd.read_csv(\"Datasets/insurance.csv\", index_col=0)\n",
    "\n",
    "# Preview the data\n",
    "data.head()"
   ]
  },
  {
   "cell_type": "markdown",
   "id": "curious-mortality",
   "metadata": {
    "papermill": {
     "duration": 0.013287,
     "end_time": "2021-07-13T18:48:17.115966",
     "exception": false,
     "start_time": "2021-07-13T18:48:17.102679",
     "status": "completed"
    },
    "tags": []
   },
   "source": [
    "# Step 1: EDA\n"
   ]
  },
  {
   "cell_type": "code",
   "execution_count": null,
   "id": "3b720a69",
   "metadata": {},
   "outputs": [],
   "source": []
  },
  {
   "cell_type": "markdown",
   "id": "711d8120",
   "metadata": {},
   "source": [
    "# Step 2: Data preparation (cleaning)"
   ]
  },
  {
   "cell_type": "code",
   "execution_count": null,
   "id": "82339dfe",
   "metadata": {},
   "outputs": [],
   "source": []
  },
  {
   "cell_type": "markdown",
   "id": "hired-mathematics",
   "metadata": {
    "papermill": {
     "duration": 0.012799,
     "end_time": "2021-07-13T18:48:21.719846",
     "exception": false,
     "start_time": "2021-07-13T18:48:21.707047",
     "status": "completed"
    },
    "tags": []
   },
   "source": [
    "# Step 3: Model training\n"
   ]
  },
  {
   "cell_type": "code",
   "execution_count": null,
   "id": "a443dc2b",
   "metadata": {},
   "outputs": [],
   "source": []
  },
  {
   "cell_type": "markdown",
   "id": "cleared-finance",
   "metadata": {
    "papermill": {
     "duration": 0.014847,
     "end_time": "2021-07-13T18:59:17.520946",
     "exception": false,
     "start_time": "2021-07-13T18:59:17.506099",
     "status": "completed"
    },
    "tags": []
   },
   "source": [
    "\n",
    "\n",
    "# Step 5: Model evaluation\n"
   ]
  },
  {
   "cell_type": "code",
   "execution_count": null,
   "id": "a847bbbb",
   "metadata": {},
   "outputs": [],
   "source": []
  },
  {
   "cell_type": "markdown",
   "id": "e6bba73f",
   "metadata": {},
   "source": [
    "# Step 6: Model inference"
   ]
  },
  {
   "cell_type": "code",
   "execution_count": null,
   "id": "85de99ff",
   "metadata": {},
   "outputs": [],
   "source": []
  }
 ],
 "metadata": {
  "kernelspec": {
   "display_name": "Python 3",
   "language": "python",
   "name": "python3"
  },
  "language_info": {
   "codemirror_mode": {
    "name": "ipython",
    "version": 3
   },
   "file_extension": ".py",
   "mimetype": "text/x-python",
   "name": "python",
   "nbconvert_exporter": "python",
   "pygments_lexer": "ipython3",
   "version": "3.8.10"
  },
  "papermill": {
   "default_parameters": {},
   "duration": 693.143621,
   "end_time": "2021-07-13T18:59:35.023547",
   "environment_variables": {},
   "exception": null,
   "input_path": "__notebook__.ipynb",
   "output_path": "__notebook__.ipynb",
   "parameters": {},
   "start_time": "2021-07-13T18:48:01.879926",
   "version": "2.3.3"
  }
 },
 "nbformat": 4,
 "nbformat_minor": 5
}
