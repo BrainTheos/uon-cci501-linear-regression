{
 "cells": [
  {
   "cell_type": "code",
   "execution_count": 1,
   "id": "5d4aaa4c-88c0-40dd-8ceb-1be64db7d2ff",
   "metadata": {},
   "outputs": [],
   "source": [
    "# Data handing libraries\n",
    "import pandas as pd\n",
    "import numpy as np\n",
    "# For model evaluation\n",
    "from sklearn.metrics import r2_score\n",
    "from sklearn.metrics import mean_squared_error\n",
    "# For model training\n",
    "from sklearn.linear_model import LinearRegression, RANSACRegressor, SGDRegressor\n",
    "from sklearn.pipeline import make_pipeline\n",
    "from sklearn.preprocessing import StandardScaler\n",
    "from sklearn.model_selection import train_test_split\n",
    "from xgboost import XGBRegressor"
   ]
  },
  {
   "cell_type": "markdown",
   "id": "39fb04b2-9f09-4664-a49b-c1764d7470ba",
   "metadata": {
    "tags": []
   },
   "source": [
    "Loading Data"
   ]
  },
  {
   "cell_type": "code",
   "execution_count": 2,
   "id": "f66d35b0-fac1-4a59-b5e6-c858841a1a44",
   "metadata": {
    "tags": []
   },
   "outputs": [],
   "source": [
    "# Read the data\n",
    "train_data = pd.read_csv('Datasets/train.csv')\n",
    "test_data = pd.read_csv('Datasets/test.csv')"
   ]
  },
  {
   "cell_type": "code",
   "execution_count": 3,
   "id": "b7b49bc1-1816-4b30-bb44-a3506b6367d5",
   "metadata": {},
   "outputs": [
    {
     "data": {
      "text/html": [
       "<div>\n",
       "<style scoped>\n",
       "    .dataframe tbody tr th:only-of-type {\n",
       "        vertical-align: middle;\n",
       "    }\n",
       "\n",
       "    .dataframe tbody tr th {\n",
       "        vertical-align: top;\n",
       "    }\n",
       "\n",
       "    .dataframe thead th {\n",
       "        text-align: right;\n",
       "    }\n",
       "</style>\n",
       "<table border=\"1\" class=\"dataframe\">\n",
       "  <thead>\n",
       "    <tr style=\"text-align: right;\">\n",
       "      <th></th>\n",
       "      <th>life_expectancy</th>\n",
       "      <th>adult_mortality</th>\n",
       "      <th>bmi</th>\n",
       "      <th>hiv_aids</th>\n",
       "      <th>income_comp_res</th>\n",
       "      <th>schooling</th>\n",
       "    </tr>\n",
       "  </thead>\n",
       "  <tbody>\n",
       "    <tr>\n",
       "      <th>0</th>\n",
       "      <td>73.9</td>\n",
       "      <td>92.0</td>\n",
       "      <td>64.7</td>\n",
       "      <td>0.1</td>\n",
       "      <td>0.804</td>\n",
       "      <td>13.9</td>\n",
       "    </tr>\n",
       "    <tr>\n",
       "      <th>1</th>\n",
       "      <td>82.1</td>\n",
       "      <td>61.0</td>\n",
       "      <td>64.2</td>\n",
       "      <td>0.1</td>\n",
       "      <td>0.891</td>\n",
       "      <td>15.9</td>\n",
       "    </tr>\n",
       "    <tr>\n",
       "      <th>2</th>\n",
       "      <td>63.8</td>\n",
       "      <td>247.0</td>\n",
       "      <td>18.9</td>\n",
       "      <td>1.3</td>\n",
       "      <td>0.464</td>\n",
       "      <td>10.2</td>\n",
       "    </tr>\n",
       "    <tr>\n",
       "      <th>3</th>\n",
       "      <td>65.2</td>\n",
       "      <td>24.0</td>\n",
       "      <td>39.6</td>\n",
       "      <td>1.1</td>\n",
       "      <td>0.622</td>\n",
       "      <td>11.7</td>\n",
       "    </tr>\n",
       "    <tr>\n",
       "      <th>4</th>\n",
       "      <td>64.0</td>\n",
       "      <td>221.0</td>\n",
       "      <td>38.1</td>\n",
       "      <td>0.1</td>\n",
       "      <td>0.000</td>\n",
       "      <td>10.2</td>\n",
       "    </tr>\n",
       "  </tbody>\n",
       "</table>\n",
       "</div>"
      ],
      "text/plain": [
       "   life_expectancy  adult_mortality   bmi  hiv_aids  income_comp_res  \\\n",
       "0             73.9             92.0  64.7       0.1            0.804   \n",
       "1             82.1             61.0  64.2       0.1            0.891   \n",
       "2             63.8            247.0  18.9       1.3            0.464   \n",
       "3             65.2             24.0  39.6       1.1            0.622   \n",
       "4             64.0            221.0  38.1       0.1            0.000   \n",
       "\n",
       "   schooling  \n",
       "0       13.9  \n",
       "1       15.9  \n",
       "2       10.2  \n",
       "3       11.7  \n",
       "4       10.2  "
      ]
     },
     "execution_count": 3,
     "metadata": {},
     "output_type": "execute_result"
    }
   ],
   "source": [
    "train_data.head()"
   ]
  },
  {
   "cell_type": "code",
   "execution_count": 5,
   "id": "0836ea9d-703b-4110-968c-6dd12dc41a44",
   "metadata": {},
   "outputs": [
    {
     "data": {
      "text/html": [
       "<div>\n",
       "<style scoped>\n",
       "    .dataframe tbody tr th:only-of-type {\n",
       "        vertical-align: middle;\n",
       "    }\n",
       "\n",
       "    .dataframe tbody tr th {\n",
       "        vertical-align: top;\n",
       "    }\n",
       "\n",
       "    .dataframe thead th {\n",
       "        text-align: right;\n",
       "    }\n",
       "</style>\n",
       "<table border=\"1\" class=\"dataframe\">\n",
       "  <thead>\n",
       "    <tr style=\"text-align: right;\">\n",
       "      <th></th>\n",
       "      <th>adult_mortality</th>\n",
       "      <th>bmi</th>\n",
       "      <th>hiv_aids</th>\n",
       "      <th>income_comp_res</th>\n",
       "      <th>schooling</th>\n",
       "    </tr>\n",
       "  </thead>\n",
       "  <tbody>\n",
       "    <tr>\n",
       "      <th>0</th>\n",
       "      <td>92.0</td>\n",
       "      <td>64.7</td>\n",
       "      <td>0.1</td>\n",
       "      <td>0.804</td>\n",
       "      <td>13.9</td>\n",
       "    </tr>\n",
       "    <tr>\n",
       "      <th>1</th>\n",
       "      <td>61.0</td>\n",
       "      <td>64.2</td>\n",
       "      <td>0.1</td>\n",
       "      <td>0.891</td>\n",
       "      <td>15.9</td>\n",
       "    </tr>\n",
       "    <tr>\n",
       "      <th>2</th>\n",
       "      <td>247.0</td>\n",
       "      <td>18.9</td>\n",
       "      <td>1.3</td>\n",
       "      <td>0.464</td>\n",
       "      <td>10.2</td>\n",
       "    </tr>\n",
       "    <tr>\n",
       "      <th>3</th>\n",
       "      <td>24.0</td>\n",
       "      <td>39.6</td>\n",
       "      <td>1.1</td>\n",
       "      <td>0.622</td>\n",
       "      <td>11.7</td>\n",
       "    </tr>\n",
       "    <tr>\n",
       "      <th>4</th>\n",
       "      <td>221.0</td>\n",
       "      <td>38.1</td>\n",
       "      <td>0.1</td>\n",
       "      <td>0.000</td>\n",
       "      <td>10.2</td>\n",
       "    </tr>\n",
       "  </tbody>\n",
       "</table>\n",
       "</div>"
      ],
      "text/plain": [
       "   adult_mortality   bmi  hiv_aids  income_comp_res  schooling\n",
       "0             92.0  64.7       0.1            0.804       13.9\n",
       "1             61.0  64.2       0.1            0.891       15.9\n",
       "2            247.0  18.9       1.3            0.464       10.2\n",
       "3             24.0  39.6       1.1            0.622       11.7\n",
       "4            221.0  38.1       0.1            0.000       10.2"
      ]
     },
     "execution_count": 5,
     "metadata": {},
     "output_type": "execute_result"
    }
   ],
   "source": [
    "# Separate target from features\n",
    "y = train_data['life_expectancy']\n",
    "features = train_data.drop(['life_expectancy'], axis=1)\n",
    "\n",
    "# Remove target variable from test data\n",
    "# y_testing = test_data['life_expectancy']\n",
    "# test_data.drop(['life_expectancy'], axis=1, inplace=True)\n",
    "\n",
    "# Preview features\n",
    "features.head()\n",
    "# test_data.head()"
   ]
  },
  {
   "cell_type": "code",
   "execution_count": 6,
   "id": "062ff6c2-8f2c-41de-9904-5c6f753b0284",
   "metadata": {},
   "outputs": [],
   "source": [
    "# Hold out cross-validation\n",
    "X_train, X_valid, y_train, y_valid = train_test_split(features, y, random_state=0)"
   ]
  },
  {
   "cell_type": "code",
   "execution_count": 7,
   "id": "e4479e92-1ca3-4223-8927-401982b79713",
   "metadata": {},
   "outputs": [],
   "source": [
    "#Define the model (Multivariate) \n",
    "regr = LinearRegression()\n",
    "# Train the model\n",
    "model = regr.fit(X_train, y_train)"
   ]
  },
  {
   "cell_type": "code",
   "execution_count": 8,
   "id": "735534e4-c5eb-4e72-94b7-e43824f1a694",
   "metadata": {},
   "outputs": [
    {
     "data": {
      "text/plain": [
       "array([-0.01911768,  0.09120046, -0.48649032,  6.90987896,  0.81824723])"
      ]
     },
     "execution_count": 8,
     "metadata": {},
     "output_type": "execute_result"
    }
   ],
   "source": [
    "#Linear regression(LR) function coefficeints\n",
    "model.coef_"
   ]
  },
  {
   "cell_type": "code",
   "execution_count": 9,
   "id": "f98ead1f-953f-4cee-8345-e4265ada0450",
   "metadata": {},
   "outputs": [
    {
     "data": {
      "text/plain": [
       "55.14134296359811"
      ]
     },
     "execution_count": 9,
     "metadata": {},
     "output_type": "execute_result"
    }
   ],
   "source": [
    "#LR y-intercept\n",
    "model.intercept_"
   ]
  },
  {
   "cell_type": "code",
   "execution_count": 10,
   "id": "bb20ef54-e089-4a7b-9742-c5b24fa60ffd",
   "metadata": {},
   "outputs": [],
   "source": [
    "#predict using validation data\n",
    "preds_valid = model.predict(X_valid)"
   ]
  },
  {
   "cell_type": "code",
   "execution_count": 11,
   "id": "0dd45ac5-415b-42cd-b1b7-f02f276e4783",
   "metadata": {},
   "outputs": [
    {
     "name": "stdout",
     "output_type": "stream",
     "text": [
      "4.43824779486579\n"
     ]
    }
   ],
   "source": [
    "#find MSE of LR using validation data\n",
    "print(mean_squared_error(y_valid, preds_valid, squared=False))"
   ]
  },
  {
   "cell_type": "code",
   "execution_count": 13,
   "id": "468af3a5-78aa-42d8-aaa9-9901604b6688",
   "metadata": {},
   "outputs": [],
   "source": [
    "#predict testing data \n",
    "preds_test = model.predict(X_valid)"
   ]
  },
  {
   "cell_type": "code",
   "execution_count": 17,
   "id": "33e30fed-2a7e-4476-8a6d-30346fba56a9",
   "metadata": {},
   "outputs": [
    {
     "name": "stdout",
     "output_type": "stream",
     "text": [
      "r2 score is  0.7569342343832728\n"
     ]
    }
   ],
   "source": [
    "# predicting the accuracy score(R2) of LR\n",
    "score=r2_score(y_valid, preds_test)\n",
    "print('r2 score is ',score)"
   ]
  },
  {
   "cell_type": "code",
   "execution_count": 18,
   "id": "3ce08056-5e64-4e84-86ba-670cd479b0a6",
   "metadata": {},
   "outputs": [
    {
     "name": "stdout",
     "output_type": "stream",
     "text": [
      "[73.13728869 70.63420719 66.25108465 72.35256202 73.81557421 73.05213374\n",
      " 76.28535846 71.7980724  75.69364929 57.6145361  76.36914555 63.16019362\n",
      " 76.87723515 79.02547305 72.87407427 79.87589882 68.30255045 59.61183439\n",
      " 60.34703207 65.43780024 63.63675205 50.44950363 60.70874979 61.90540997\n",
      " 60.07265912 77.26145175 73.54664184 73.09917746 63.75821533 57.47496285\n",
      " 59.72809891 67.59247166 58.88992361 73.58681089 55.71723888 69.96403319\n",
      " 67.10013608 60.54872129 58.94652592 62.99591432 60.14598687 63.32801009\n",
      " 66.52905783 53.4451125  61.04596984 75.47865393 69.42547163 61.87310374\n",
      " 70.77023616 66.92416753]\n"
     ]
    }
   ],
   "source": [
    "print(preds_test[:50])"
   ]
  },
  {
   "cell_type": "code",
   "execution_count": 20,
   "id": "c1827d74-5c6a-42a1-adb4-976748705801",
   "metadata": {},
   "outputs": [
    {
     "name": "stdout",
     "output_type": "stream",
     "text": [
      "768     76.000000\n",
      "704     73.200000\n",
      "726     68.300000\n",
      "215     67.111465\n",
      "1158    74.700000\n",
      "813     72.900000\n",
      "436     76.600000\n",
      "1611    71.400000\n",
      "148     77.200000\n",
      "1423    56.900000\n",
      "76      76.600000\n",
      "1870    62.800000\n",
      "1280    78.100000\n",
      "1514    81.600000\n",
      "1063    73.400000\n",
      "1697    77.500000\n",
      "353     69.800000\n",
      "18      58.200000\n",
      "828     59.400000\n",
      "971     68.400000\n",
      "317     62.800000\n",
      "17      54.000000\n",
      "1410    62.600000\n",
      "1906    58.800000\n",
      "1850    67.000000\n",
      "572     79.200000\n",
      "574     75.700000\n",
      "303     73.500000\n",
      "1534    66.000000\n",
      "1511    55.000000\n",
      "512     59.300000\n",
      "1467    71.800000\n",
      "156     69.000000\n",
      "553     71.800000\n",
      "1000    51.200000\n",
      "1542    82.300000\n",
      "80      66.000000\n",
      "1263    63.000000\n",
      "1899    57.000000\n",
      "575     69.900000\n",
      "1773    61.800000\n",
      "279     55.700000\n",
      "491     75.000000\n",
      "264     57.000000\n",
      "1425    68.000000\n",
      "1936    73.700000\n",
      "615     72.300000\n",
      "1433    51.300000\n",
      "666     73.000000\n",
      "1849    65.400000\n",
      "Name: life_expectancy, dtype: float64\n"
     ]
    }
   ],
   "source": [
    "print(y_valid[:50])"
   ]
  },
  {
   "cell_type": "code",
   "execution_count": 21,
   "id": "5e7dc756-aeb1-4016-9f5d-60635c5742ad",
   "metadata": {},
   "outputs": [
    {
     "data": {
      "text/plain": [
       "0.7410843775648954"
      ]
     },
     "execution_count": 21,
     "metadata": {},
     "output_type": "execute_result"
    }
   ],
   "source": [
    "# RANCANRegressor\n",
    "ransac = RANSACRegressor()\n",
    "# Train the model\n",
    "model2 = ransac.fit(X_train, y_train)\n",
    "#predict\n",
    "preds_valid2 = model2.predict(X_valid)\n",
    "#r2 value\n",
    "model2.score(X_valid, y_valid)"
   ]
  },
  {
   "cell_type": "code",
   "execution_count": 22,
   "id": "41a428b4-b193-40a2-8f0d-6e2f2b382cbe",
   "metadata": {},
   "outputs": [
    {
     "data": {
      "text/plain": [
       "array([-2.53420867e-02, -4.23534916e-03, -3.74764075e-01,  1.48111160e+01,\n",
       "        6.73561999e-01])"
      ]
     },
     "execution_count": 22,
     "metadata": {},
     "output_type": "execute_result"
    }
   ],
   "source": [
    "ransac.estimator_.coef_"
   ]
  },
  {
   "cell_type": "code",
   "execution_count": 23,
   "id": "6d921d44-420a-468b-83fd-c651ce0ffc3b",
   "metadata": {},
   "outputs": [
    {
     "name": "stdout",
     "output_type": "stream",
     "text": [
      "4.580667580572665\n"
     ]
    }
   ],
   "source": [
    "# print MSE\n",
    "print(mean_squared_error(y_valid, preds_valid2, squared=False))"
   ]
  },
  {
   "cell_type": "code",
   "execution_count": 24,
   "id": "1df310df-5b40-4213-a35b-87eb6af31d59",
   "metadata": {},
   "outputs": [
    {
     "data": {
      "text/plain": [
       "Pipeline(steps=[('standardscaler', StandardScaler()),\n",
       "                ('sgdregressor', SGDRegressor())])"
      ]
     },
     "execution_count": 24,
     "metadata": {},
     "output_type": "execute_result"
    }
   ],
   "source": [
    "# SGDRegressor\n",
    "sgd = make_pipeline(StandardScaler(), SGDRegressor(max_iter=1000, tol=1e-3))\n",
    "sgd.fit(X_train, y_train)"
   ]
  },
  {
   "cell_type": "code",
   "execution_count": 27,
   "id": "ab68657f-ae37-4e97-b0f4-fed7911a46c8",
   "metadata": {},
   "outputs": [],
   "source": [
    "sgd_preds_valid = sgd.predict(X_valid)"
   ]
  },
  {
   "cell_type": "code",
   "execution_count": 28,
   "id": "b3ee94ea-0744-450c-8dc9-238e240c93c3",
   "metadata": {},
   "outputs": [
    {
     "name": "stdout",
     "output_type": "stream",
     "text": [
      "4.436164238796246\n"
     ]
    }
   ],
   "source": [
    "# print MSE\n",
    "print(mean_squared_error(y_valid, sgd_preds_valid, squared=False))"
   ]
  },
  {
   "cell_type": "code",
   "execution_count": 29,
   "id": "7bdf4e5d-2a06-47d1-bfb4-14cd349672b3",
   "metadata": {},
   "outputs": [
    {
     "data": {
      "text/plain": [
       "0.7571623975229055"
      ]
     },
     "execution_count": 29,
     "metadata": {},
     "output_type": "execute_result"
    }
   ],
   "source": [
    "#r2 value\n",
    "sgd.score(X_valid, y_valid)"
   ]
  },
  {
   "cell_type": "code",
   "execution_count": 30,
   "id": "b3eab68e-6e39-407c-941b-6be42eba396e",
   "metadata": {},
   "outputs": [],
   "source": [
    "#XGBRegressor\n",
    "xgb_model = XGBRegressor(n_estimators=850, learning_rate=0.079)"
   ]
  },
  {
   "cell_type": "code",
   "execution_count": 31,
   "id": "c8587cdf-fa74-499b-ae4d-8c3affcc9287",
   "metadata": {},
   "outputs": [
    {
     "data": {
      "text/plain": [
       "XGBRegressor(base_score=0.5, booster='gbtree', colsample_bylevel=1,\n",
       "             colsample_bynode=1, colsample_bytree=1, enable_categorical=False,\n",
       "             gamma=0, gpu_id=-1, importance_type=None,\n",
       "             interaction_constraints='', learning_rate=0.079, max_delta_step=0,\n",
       "             max_depth=6, min_child_weight=1, missing=nan,\n",
       "             monotone_constraints='()', n_estimators=850, n_jobs=2,\n",
       "             num_parallel_tree=1, predictor='auto', random_state=0, reg_alpha=0,\n",
       "             reg_lambda=1, scale_pos_weight=1, subsample=1, tree_method='exact',\n",
       "             validate_parameters=1, verbosity=None)"
      ]
     },
     "execution_count": 31,
     "metadata": {},
     "output_type": "execute_result"
    }
   ],
   "source": [
    "#train xgb\n",
    "xgb_model.fit(X_train, y_train,\n",
    "              early_stopping_rounds=5,\n",
    "              eval_set=[(X_valid, y_valid)],\n",
    "              verbose=False)"
   ]
  },
  {
   "cell_type": "code",
   "execution_count": 32,
   "id": "cfe8d387-4124-4c5d-a0cc-560b730b7f97",
   "metadata": {},
   "outputs": [],
   "source": [
    "#predit using validation dataset on xgb\n",
    "xgb_preds_valid = xgb_model.predict(X_valid)"
   ]
  },
  {
   "cell_type": "code",
   "execution_count": 33,
   "id": "75f6e806-cfb1-4fad-9765-29203b93a143",
   "metadata": {},
   "outputs": [
    {
     "name": "stdout",
     "output_type": "stream",
     "text": [
      "2.2226905622309414\n"
     ]
    }
   ],
   "source": [
    "#calculate MSE\n",
    "print(mean_squared_error(y_valid, xgb_preds_valid, squared=False))"
   ]
  },
  {
   "cell_type": "code",
   "execution_count": 36,
   "id": "76265916-94fd-40a8-93e8-b554af78b705",
   "metadata": {},
   "outputs": [
    {
     "data": {
      "text/plain": [
       "0.7571623975229055"
      ]
     },
     "execution_count": 36,
     "metadata": {},
     "output_type": "execute_result"
    }
   ],
   "source": [
    "#r2 value\n",
    "sgd.score(X_valid, y_valid)"
   ]
  },
  {
   "cell_type": "code",
   "execution_count": null,
   "id": "70c8a465-979c-4027-9149-bd7aee3176fc",
   "metadata": {},
   "outputs": [],
   "source": []
  }
 ],
 "metadata": {
  "kernelspec": {
   "display_name": "Python 3 (ipykernel)",
   "language": "python",
   "name": "python3"
  },
  "language_info": {
   "codemirror_mode": {
    "name": "ipython",
    "version": 3
   },
   "file_extension": ".py",
   "mimetype": "text/x-python",
   "name": "python",
   "nbconvert_exporter": "python",
   "pygments_lexer": "ipython3",
   "version": "3.9.5"
  }
 },
 "nbformat": 4,
 "nbformat_minor": 5
}
