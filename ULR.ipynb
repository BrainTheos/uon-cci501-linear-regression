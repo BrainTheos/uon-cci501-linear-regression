{
 "cells": [
  {
   "cell_type": "code",
   "execution_count": 1,
   "id": "8bce6875",
   "metadata": {},
   "outputs": [],
   "source": [
    "# Import useful libraries\n",
    "# For model training and evaluation\n",
    "from sklearn.linear_model import LinearRegression\n",
    "from sklearn.metrics import mean_squared_error\n",
    "from sklearn.model_selection import train_test_split\n",
    "\n",
    "from sklearn.impute import SimpleImputer\n",
    "\n",
    "# Data preprocessing\n",
    "import numpy as np # linear algebra\n",
    "import pandas as pd # data processing, \n",
    "\n",
    "# Plottting lib\n",
    "import matplotlib.pyplot as plt\n",
    "import seaborn as sns\n"
   ]
  },
  {
   "cell_type": "markdown",
   "id": "b091fcac",
   "metadata": {},
   "source": [
    "# Loading preprocessed data"
   ]
  },
  {
   "cell_type": "code",
   "execution_count": 5,
   "id": "afca657e",
   "metadata": {},
   "outputs": [],
   "source": [
    "# Read the data\n",
    "train_data = pd.read_csv('Datasets/train.csv')\n",
    "test_data = pd.read_csv('Datasets/test.csv')"
   ]
  },
  {
   "cell_type": "code",
   "execution_count": 6,
   "id": "17177b7f",
   "metadata": {},
   "outputs": [
    {
     "data": {
      "text/html": [
       "<div>\n",
       "<style scoped>\n",
       "    .dataframe tbody tr th:only-of-type {\n",
       "        vertical-align: middle;\n",
       "    }\n",
       "\n",
       "    .dataframe tbody tr th {\n",
       "        vertical-align: top;\n",
       "    }\n",
       "\n",
       "    .dataframe thead th {\n",
       "        text-align: right;\n",
       "    }\n",
       "</style>\n",
       "<table border=\"1\" class=\"dataframe\">\n",
       "  <thead>\n",
       "    <tr style=\"text-align: right;\">\n",
       "      <th></th>\n",
       "      <th>life_expectancy</th>\n",
       "      <th>adult_mortality</th>\n",
       "      <th>bmi</th>\n",
       "      <th>hiv_aids</th>\n",
       "      <th>income_comp_res</th>\n",
       "      <th>schooling</th>\n",
       "    </tr>\n",
       "  </thead>\n",
       "  <tbody>\n",
       "    <tr>\n",
       "      <th>0</th>\n",
       "      <td>73.9</td>\n",
       "      <td>92.0</td>\n",
       "      <td>64.7</td>\n",
       "      <td>0.1</td>\n",
       "      <td>0.804</td>\n",
       "      <td>13.9</td>\n",
       "    </tr>\n",
       "    <tr>\n",
       "      <th>1</th>\n",
       "      <td>82.1</td>\n",
       "      <td>61.0</td>\n",
       "      <td>64.2</td>\n",
       "      <td>0.1</td>\n",
       "      <td>0.891</td>\n",
       "      <td>15.9</td>\n",
       "    </tr>\n",
       "    <tr>\n",
       "      <th>2</th>\n",
       "      <td>63.8</td>\n",
       "      <td>247.0</td>\n",
       "      <td>18.9</td>\n",
       "      <td>1.3</td>\n",
       "      <td>0.464</td>\n",
       "      <td>10.2</td>\n",
       "    </tr>\n",
       "    <tr>\n",
       "      <th>3</th>\n",
       "      <td>65.2</td>\n",
       "      <td>24.0</td>\n",
       "      <td>39.6</td>\n",
       "      <td>1.1</td>\n",
       "      <td>0.622</td>\n",
       "      <td>11.7</td>\n",
       "    </tr>\n",
       "    <tr>\n",
       "      <th>4</th>\n",
       "      <td>64.0</td>\n",
       "      <td>221.0</td>\n",
       "      <td>38.1</td>\n",
       "      <td>0.1</td>\n",
       "      <td>0.000</td>\n",
       "      <td>10.2</td>\n",
       "    </tr>\n",
       "  </tbody>\n",
       "</table>\n",
       "</div>"
      ],
      "text/plain": [
       "   life_expectancy  adult_mortality   bmi  hiv_aids  income_comp_res  \\\n",
       "0             73.9             92.0  64.7       0.1            0.804   \n",
       "1             82.1             61.0  64.2       0.1            0.891   \n",
       "2             63.8            247.0  18.9       1.3            0.464   \n",
       "3             65.2             24.0  39.6       1.1            0.622   \n",
       "4             64.0            221.0  38.1       0.1            0.000   \n",
       "\n",
       "   schooling  \n",
       "0       13.9  \n",
       "1       15.9  \n",
       "2       10.2  \n",
       "3       11.7  \n",
       "4       10.2  "
      ]
     },
     "execution_count": 6,
     "metadata": {},
     "output_type": "execute_result"
    }
   ],
   "source": [
    "train_data.head()"
   ]
  },
  {
   "cell_type": "code",
   "execution_count": 7,
   "id": "c976c8bb",
   "metadata": {},
   "outputs": [
    {
     "data": {
      "text/html": [
       "<div>\n",
       "<style scoped>\n",
       "    .dataframe tbody tr th:only-of-type {\n",
       "        vertical-align: middle;\n",
       "    }\n",
       "\n",
       "    .dataframe tbody tr th {\n",
       "        vertical-align: top;\n",
       "    }\n",
       "\n",
       "    .dataframe thead th {\n",
       "        text-align: right;\n",
       "    }\n",
       "</style>\n",
       "<table border=\"1\" class=\"dataframe\">\n",
       "  <thead>\n",
       "    <tr style=\"text-align: right;\">\n",
       "      <th></th>\n",
       "      <th>adult_mortality</th>\n",
       "      <th>bmi</th>\n",
       "      <th>hiv_aids</th>\n",
       "      <th>income_comp_res</th>\n",
       "      <th>schooling</th>\n",
       "    </tr>\n",
       "  </thead>\n",
       "  <tbody>\n",
       "    <tr>\n",
       "      <th>0</th>\n",
       "      <td>268.0</td>\n",
       "      <td>18.1</td>\n",
       "      <td>0.1</td>\n",
       "      <td>0.470</td>\n",
       "      <td>9.9</td>\n",
       "    </tr>\n",
       "    <tr>\n",
       "      <th>1</th>\n",
       "      <td>291.0</td>\n",
       "      <td>14.2</td>\n",
       "      <td>0.1</td>\n",
       "      <td>0.396</td>\n",
       "      <td>7.9</td>\n",
       "    </tr>\n",
       "    <tr>\n",
       "      <th>2</th>\n",
       "      <td>316.0</td>\n",
       "      <td>12.6</td>\n",
       "      <td>0.1</td>\n",
       "      <td>0.340</td>\n",
       "      <td>5.9</td>\n",
       "    </tr>\n",
       "    <tr>\n",
       "      <th>3</th>\n",
       "      <td>88.0</td>\n",
       "      <td>55.1</td>\n",
       "      <td>0.1</td>\n",
       "      <td>0.738</td>\n",
       "      <td>13.3</td>\n",
       "    </tr>\n",
       "    <tr>\n",
       "      <th>4</th>\n",
       "      <td>91.0</td>\n",
       "      <td>53.5</td>\n",
       "      <td>0.1</td>\n",
       "      <td>0.721</td>\n",
       "      <td>12.2</td>\n",
       "    </tr>\n",
       "  </tbody>\n",
       "</table>\n",
       "</div>"
      ],
      "text/plain": [
       "   adult_mortality   bmi  hiv_aids  income_comp_res  schooling\n",
       "0            268.0  18.1       0.1            0.470        9.9\n",
       "1            291.0  14.2       0.1            0.396        7.9\n",
       "2            316.0  12.6       0.1            0.340        5.9\n",
       "3             88.0  55.1       0.1            0.738       13.3\n",
       "4             91.0  53.5       0.1            0.721       12.2"
      ]
     },
     "execution_count": 7,
     "metadata": {},
     "output_type": "execute_result"
    }
   ],
   "source": [
    "test_data.head()"
   ]
  },
  {
   "cell_type": "code",
   "execution_count": 10,
   "id": "7f6b47c7",
   "metadata": {},
   "outputs": [],
   "source": [
    "# Separate target from features\n",
    "y = train_data['life_expectancy']\n",
    "\n",
    "features = train_data.drop(['life_expectancy'], axis=1)"
   ]
  },
  {
   "cell_type": "code",
   "execution_count": 13,
   "id": "b0e8495d",
   "metadata": {},
   "outputs": [
    {
     "data": {
      "text/html": [
       "<div>\n",
       "<style scoped>\n",
       "    .dataframe tbody tr th:only-of-type {\n",
       "        vertical-align: middle;\n",
       "    }\n",
       "\n",
       "    .dataframe tbody tr th {\n",
       "        vertical-align: top;\n",
       "    }\n",
       "\n",
       "    .dataframe thead th {\n",
       "        text-align: right;\n",
       "    }\n",
       "</style>\n",
       "<table border=\"1\" class=\"dataframe\">\n",
       "  <thead>\n",
       "    <tr style=\"text-align: right;\">\n",
       "      <th></th>\n",
       "      <th>adult_mortality</th>\n",
       "      <th>bmi</th>\n",
       "      <th>hiv_aids</th>\n",
       "      <th>income_comp_res</th>\n",
       "      <th>schooling</th>\n",
       "    </tr>\n",
       "  </thead>\n",
       "  <tbody>\n",
       "    <tr>\n",
       "      <th>count</th>\n",
       "      <td>1941.000000</td>\n",
       "      <td>1941.000000</td>\n",
       "      <td>1941.000000</td>\n",
       "      <td>1941.000000</td>\n",
       "      <td>1941.000000</td>\n",
       "    </tr>\n",
       "    <tr>\n",
       "      <th>mean</th>\n",
       "      <td>184.776232</td>\n",
       "      <td>35.284575</td>\n",
       "      <td>2.100979</td>\n",
       "      <td>0.578977</td>\n",
       "      <td>11.177800</td>\n",
       "    </tr>\n",
       "    <tr>\n",
       "      <th>std</th>\n",
       "      <td>128.466020</td>\n",
       "      <td>19.412915</td>\n",
       "      <td>5.506793</td>\n",
       "      <td>0.200322</td>\n",
       "      <td>3.016057</td>\n",
       "    </tr>\n",
       "    <tr>\n",
       "      <th>min</th>\n",
       "      <td>1.000000</td>\n",
       "      <td>1.000000</td>\n",
       "      <td>0.100000</td>\n",
       "      <td>0.000000</td>\n",
       "      <td>0.000000</td>\n",
       "    </tr>\n",
       "    <tr>\n",
       "      <th>25%</th>\n",
       "      <td>94.000000</td>\n",
       "      <td>18.300000</td>\n",
       "      <td>0.100000</td>\n",
       "      <td>0.474000</td>\n",
       "      <td>9.700000</td>\n",
       "    </tr>\n",
       "    <tr>\n",
       "      <th>50%</th>\n",
       "      <td>165.000000</td>\n",
       "      <td>35.435326</td>\n",
       "      <td>0.100000</td>\n",
       "      <td>0.617000</td>\n",
       "      <td>11.500000</td>\n",
       "    </tr>\n",
       "    <tr>\n",
       "      <th>75%</th>\n",
       "      <td>254.000000</td>\n",
       "      <td>53.200000</td>\n",
       "      <td>1.500000</td>\n",
       "      <td>0.721000</td>\n",
       "      <td>13.100000</td>\n",
       "    </tr>\n",
       "    <tr>\n",
       "      <th>max</th>\n",
       "      <td>723.000000</td>\n",
       "      <td>82.800000</td>\n",
       "      <td>50.300000</td>\n",
       "      <td>0.919000</td>\n",
       "      <td>17.700000</td>\n",
       "    </tr>\n",
       "  </tbody>\n",
       "</table>\n",
       "</div>"
      ],
      "text/plain": [
       "       adult_mortality          bmi     hiv_aids  income_comp_res    schooling\n",
       "count      1941.000000  1941.000000  1941.000000      1941.000000  1941.000000\n",
       "mean        184.776232    35.284575     2.100979         0.578977    11.177800\n",
       "std         128.466020    19.412915     5.506793         0.200322     3.016057\n",
       "min           1.000000     1.000000     0.100000         0.000000     0.000000\n",
       "25%          94.000000    18.300000     0.100000         0.474000     9.700000\n",
       "50%         165.000000    35.435326     0.100000         0.617000    11.500000\n",
       "75%         254.000000    53.200000     1.500000         0.721000    13.100000\n",
       "max         723.000000    82.800000    50.300000         0.919000    17.700000"
      ]
     },
     "execution_count": 13,
     "metadata": {},
     "output_type": "execute_result"
    }
   ],
   "source": [
    "features.describe()"
   ]
  },
  {
   "cell_type": "code",
   "execution_count": 20,
   "id": "2896f1fd",
   "metadata": {},
   "outputs": [],
   "source": [
    "X_train, X_valid, y_train, y_valid = train_test_split(features.adult_mortality, y, random_state=0)"
   ]
  },
  {
   "cell_type": "code",
   "execution_count": 17,
   "id": "9e06166f",
   "metadata": {},
   "outputs": [
    {
     "data": {
      "text/plain": [
       "529     441.0\n",
       "1203    177.0\n",
       "378     157.0\n",
       "568     161.0\n",
       "1494    172.0\n",
       "Name: adult_mortality, dtype: float64"
      ]
     },
     "execution_count": 17,
     "metadata": {},
     "output_type": "execute_result"
    }
   ],
   "source": [
    "X_train.head()"
   ]
  },
  {
   "cell_type": "markdown",
   "id": "9f47b93c",
   "metadata": {},
   "source": [
    "# Model training"
   ]
  },
  {
   "cell_type": "code",
   "execution_count": 23,
   "id": "476b83c8",
   "metadata": {},
   "outputs": [],
   "source": [
    "#Define the model (Univariate) \n",
    "model = LinearRegression()\n",
    "\n",
    "# Train the model\n",
    "model.fit(X_train.values.reshape(-1, 1), y_train)\n",
    "preds_valid = model.predict(X_valid.values.reshape(-1, 1))"
   ]
  },
  {
   "cell_type": "markdown",
   "id": "14d3ca22",
   "metadata": {},
   "source": [
    "# Model evaluation"
   ]
  },
  {
   "cell_type": "code",
   "execution_count": 24,
   "id": "fe8d4b7e",
   "metadata": {},
   "outputs": [
    {
     "name": "stdout",
     "output_type": "stream",
     "text": [
      "6.4027696871184565\n"
     ]
    }
   ],
   "source": [
    "# print MSE\n",
    "print(mean_squared_error(y_valid, preds_valid, squared=False))"
   ]
  },
  {
   "cell_type": "markdown",
   "id": "b41967d4",
   "metadata": {},
   "source": [
    "# Model inference"
   ]
  },
  {
   "cell_type": "code",
   "execution_count": 26,
   "id": "bcfc3a6b",
   "metadata": {},
   "outputs": [],
   "source": [
    "preds_test = model.predict(test_data.adult_mortality.values.reshape(-1, 1))"
   ]
  },
  {
   "cell_type": "code",
   "execution_count": 28,
   "id": "df865fb4",
   "metadata": {},
   "outputs": [],
   "source": [
    "# Dataframe of prediction outcome for each individual row in test data\n",
    "output = pd.DataFrame({'Id': test_data.index,\n",
    "                       'LifeExpectancy': preds_test})"
   ]
  },
  {
   "cell_type": "code",
   "execution_count": 29,
   "id": "69ad3b57",
   "metadata": {},
   "outputs": [
    {
     "data": {
      "text/html": [
       "<div>\n",
       "<style scoped>\n",
       "    .dataframe tbody tr th:only-of-type {\n",
       "        vertical-align: middle;\n",
       "    }\n",
       "\n",
       "    .dataframe tbody tr th {\n",
       "        vertical-align: top;\n",
       "    }\n",
       "\n",
       "    .dataframe thead th {\n",
       "        text-align: right;\n",
       "    }\n",
       "</style>\n",
       "<table border=\"1\" class=\"dataframe\">\n",
       "  <thead>\n",
       "    <tr style=\"text-align: right;\">\n",
       "      <th></th>\n",
       "      <th>Id</th>\n",
       "      <th>LifeExpectancy</th>\n",
       "    </tr>\n",
       "  </thead>\n",
       "  <tbody>\n",
       "    <tr>\n",
       "      <th>0</th>\n",
       "      <td>0</td>\n",
       "      <td>63.056583</td>\n",
       "    </tr>\n",
       "    <tr>\n",
       "      <th>1</th>\n",
       "      <td>1</td>\n",
       "      <td>61.991713</td>\n",
       "    </tr>\n",
       "    <tr>\n",
       "      <th>2</th>\n",
       "      <td>2</td>\n",
       "      <td>60.834247</td>\n",
       "    </tr>\n",
       "    <tr>\n",
       "      <th>3</th>\n",
       "      <td>3</td>\n",
       "      <td>71.390345</td>\n",
       "    </tr>\n",
       "    <tr>\n",
       "      <th>4</th>\n",
       "      <td>4</td>\n",
       "      <td>71.251449</td>\n",
       "    </tr>\n",
       "  </tbody>\n",
       "</table>\n",
       "</div>"
      ],
      "text/plain": [
       "   Id  LifeExpectancy\n",
       "0   0       63.056583\n",
       "1   1       61.991713\n",
       "2   2       60.834247\n",
       "3   3       71.390345\n",
       "4   4       71.251449"
      ]
     },
     "execution_count": 29,
     "metadata": {},
     "output_type": "execute_result"
    }
   ],
   "source": [
    "output.head()"
   ]
  },
  {
   "cell_type": "code",
   "execution_count": null,
   "id": "a7c97c9a",
   "metadata": {},
   "outputs": [],
   "source": []
  }
 ],
 "metadata": {
  "kernelspec": {
   "display_name": "Python 3",
   "language": "python",
   "name": "python3"
  },
  "language_info": {
   "codemirror_mode": {
    "name": "ipython",
    "version": 3
   },
   "file_extension": ".py",
   "mimetype": "text/x-python",
   "name": "python",
   "nbconvert_exporter": "python",
   "pygments_lexer": "ipython3",
   "version": "3.8.10"
  }
 },
 "nbformat": 4,
 "nbformat_minor": 5
}
