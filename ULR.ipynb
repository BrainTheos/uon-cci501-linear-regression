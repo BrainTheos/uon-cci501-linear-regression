{
 "cells": [
  {
   "cell_type": "code",
   "execution_count": 1,
   "id": "0e877031",
   "metadata": {},
   "outputs": [],
   "source": [
    "# Import useful libraries\n",
    "# For model training and evaluation\n",
    "from sklearn.linear_model import LinearRegression\n",
    "from sklearn.linear_model import Ridge\n",
    "from sklearn.linear_model import RANSACRegressor\n",
    "from sklearn.linear_model import SGDRegressor\n",
    "from xgboost import XGBRegressor\n",
    "\n",
    "from sklearn.metrics import mean_squared_error\n",
    "from sklearn.metrics import r2_score\n",
    "from sklearn.model_selection import train_test_split\n",
    "from sklearn.model_selection import cross_val_score\n",
    "from sklearn.model_selection import GridSearchCV\n",
    "\n",
    "\n",
    "from sklearn.pipeline import make_pipeline\n",
    "from sklearn.preprocessing import StandardScaler\n",
    "\n",
    "from sklearn.impute import SimpleImputer\n",
    "\n",
    "# Data preprocessing\n",
    "import numpy as np # linear algebra\n",
    "import pandas as pd # data processing, \n",
    "\n",
    "# Plottting lib\n",
    "import matplotlib.pyplot as plt\n",
    "import seaborn as sns"
   ]
  },
  {
   "cell_type": "markdown",
   "id": "cbd80b36",
   "metadata": {},
   "source": [
    "# Loading preprocessed data"
   ]
  },
  {
   "cell_type": "code",
   "execution_count": 2,
   "id": "c2a0f665",
   "metadata": {},
   "outputs": [],
   "source": [
    "# Read the data\n",
    "train_data = pd.read_csv('Datasets/train.csv')\n",
    "test_data = pd.read_csv('Datasets/test.csv')"
   ]
  },
  {
   "cell_type": "code",
   "execution_count": 3,
   "id": "b13419e5",
   "metadata": {},
   "outputs": [
    {
     "data": {
      "text/html": [
       "<div>\n",
       "<style scoped>\n",
       "    .dataframe tbody tr th:only-of-type {\n",
       "        vertical-align: middle;\n",
       "    }\n",
       "\n",
       "    .dataframe tbody tr th {\n",
       "        vertical-align: top;\n",
       "    }\n",
       "\n",
       "    .dataframe thead th {\n",
       "        text-align: right;\n",
       "    }\n",
       "</style>\n",
       "<table border=\"1\" class=\"dataframe\">\n",
       "  <thead>\n",
       "    <tr style=\"text-align: right;\">\n",
       "      <th></th>\n",
       "      <th>life_expectancy</th>\n",
       "      <th>adult_mortality</th>\n",
       "      <th>bmi</th>\n",
       "      <th>hiv_aids</th>\n",
       "      <th>income_comp_res</th>\n",
       "      <th>schooling</th>\n",
       "    </tr>\n",
       "  </thead>\n",
       "  <tbody>\n",
       "    <tr>\n",
       "      <th>0</th>\n",
       "      <td>73.9</td>\n",
       "      <td>92.0</td>\n",
       "      <td>64.7</td>\n",
       "      <td>0.1</td>\n",
       "      <td>0.804</td>\n",
       "      <td>13.9</td>\n",
       "    </tr>\n",
       "    <tr>\n",
       "      <th>1</th>\n",
       "      <td>82.1</td>\n",
       "      <td>61.0</td>\n",
       "      <td>64.2</td>\n",
       "      <td>0.1</td>\n",
       "      <td>0.891</td>\n",
       "      <td>15.9</td>\n",
       "    </tr>\n",
       "    <tr>\n",
       "      <th>2</th>\n",
       "      <td>63.8</td>\n",
       "      <td>247.0</td>\n",
       "      <td>18.9</td>\n",
       "      <td>1.3</td>\n",
       "      <td>0.464</td>\n",
       "      <td>10.2</td>\n",
       "    </tr>\n",
       "    <tr>\n",
       "      <th>3</th>\n",
       "      <td>65.2</td>\n",
       "      <td>24.0</td>\n",
       "      <td>39.6</td>\n",
       "      <td>1.1</td>\n",
       "      <td>0.622</td>\n",
       "      <td>11.7</td>\n",
       "    </tr>\n",
       "    <tr>\n",
       "      <th>4</th>\n",
       "      <td>64.0</td>\n",
       "      <td>221.0</td>\n",
       "      <td>38.1</td>\n",
       "      <td>0.1</td>\n",
       "      <td>0.000</td>\n",
       "      <td>10.2</td>\n",
       "    </tr>\n",
       "  </tbody>\n",
       "</table>\n",
       "</div>"
      ],
      "text/plain": [
       "   life_expectancy  adult_mortality   bmi  hiv_aids  income_comp_res  \\\n",
       "0             73.9             92.0  64.7       0.1            0.804   \n",
       "1             82.1             61.0  64.2       0.1            0.891   \n",
       "2             63.8            247.0  18.9       1.3            0.464   \n",
       "3             65.2             24.0  39.6       1.1            0.622   \n",
       "4             64.0            221.0  38.1       0.1            0.000   \n",
       "\n",
       "   schooling  \n",
       "0       13.9  \n",
       "1       15.9  \n",
       "2       10.2  \n",
       "3       11.7  \n",
       "4       10.2  "
      ]
     },
     "execution_count": 3,
     "metadata": {},
     "output_type": "execute_result"
    }
   ],
   "source": [
    "train_data.head()"
   ]
  },
  {
   "cell_type": "code",
   "execution_count": 4,
   "id": "bcaf6a40",
   "metadata": {},
   "outputs": [
    {
     "data": {
      "text/html": [
       "<div>\n",
       "<style scoped>\n",
       "    .dataframe tbody tr th:only-of-type {\n",
       "        vertical-align: middle;\n",
       "    }\n",
       "\n",
       "    .dataframe tbody tr th {\n",
       "        vertical-align: top;\n",
       "    }\n",
       "\n",
       "    .dataframe thead th {\n",
       "        text-align: right;\n",
       "    }\n",
       "</style>\n",
       "<table border=\"1\" class=\"dataframe\">\n",
       "  <thead>\n",
       "    <tr style=\"text-align: right;\">\n",
       "      <th></th>\n",
       "      <th>adult_mortality</th>\n",
       "      <th>bmi</th>\n",
       "      <th>hiv_aids</th>\n",
       "      <th>income_comp_res</th>\n",
       "      <th>schooling</th>\n",
       "    </tr>\n",
       "  </thead>\n",
       "  <tbody>\n",
       "    <tr>\n",
       "      <th>0</th>\n",
       "      <td>268.0</td>\n",
       "      <td>18.1</td>\n",
       "      <td>0.1</td>\n",
       "      <td>0.470</td>\n",
       "      <td>9.9</td>\n",
       "    </tr>\n",
       "    <tr>\n",
       "      <th>1</th>\n",
       "      <td>291.0</td>\n",
       "      <td>14.2</td>\n",
       "      <td>0.1</td>\n",
       "      <td>0.396</td>\n",
       "      <td>7.9</td>\n",
       "    </tr>\n",
       "    <tr>\n",
       "      <th>2</th>\n",
       "      <td>316.0</td>\n",
       "      <td>12.6</td>\n",
       "      <td>0.1</td>\n",
       "      <td>0.340</td>\n",
       "      <td>5.9</td>\n",
       "    </tr>\n",
       "    <tr>\n",
       "      <th>3</th>\n",
       "      <td>88.0</td>\n",
       "      <td>55.1</td>\n",
       "      <td>0.1</td>\n",
       "      <td>0.738</td>\n",
       "      <td>13.3</td>\n",
       "    </tr>\n",
       "    <tr>\n",
       "      <th>4</th>\n",
       "      <td>91.0</td>\n",
       "      <td>53.5</td>\n",
       "      <td>0.1</td>\n",
       "      <td>0.721</td>\n",
       "      <td>12.2</td>\n",
       "    </tr>\n",
       "  </tbody>\n",
       "</table>\n",
       "</div>"
      ],
      "text/plain": [
       "   adult_mortality   bmi  hiv_aids  income_comp_res  schooling\n",
       "0            268.0  18.1       0.1            0.470        9.9\n",
       "1            291.0  14.2       0.1            0.396        7.9\n",
       "2            316.0  12.6       0.1            0.340        5.9\n",
       "3             88.0  55.1       0.1            0.738       13.3\n",
       "4             91.0  53.5       0.1            0.721       12.2"
      ]
     },
     "execution_count": 4,
     "metadata": {},
     "output_type": "execute_result"
    }
   ],
   "source": [
    "test_data.head()"
   ]
  },
  {
   "cell_type": "code",
   "execution_count": 5,
   "id": "d39dbacb",
   "metadata": {},
   "outputs": [],
   "source": [
    "# Separate target from features\n",
    "y = train_data['life_expectancy']\n",
    "\n",
    "features = train_data.drop(['life_expectancy'], axis=1)"
   ]
  },
  {
   "cell_type": "code",
   "execution_count": 6,
   "id": "be7cd7e4",
   "metadata": {},
   "outputs": [
    {
     "data": {
      "text/html": [
       "<div>\n",
       "<style scoped>\n",
       "    .dataframe tbody tr th:only-of-type {\n",
       "        vertical-align: middle;\n",
       "    }\n",
       "\n",
       "    .dataframe tbody tr th {\n",
       "        vertical-align: top;\n",
       "    }\n",
       "\n",
       "    .dataframe thead th {\n",
       "        text-align: right;\n",
       "    }\n",
       "</style>\n",
       "<table border=\"1\" class=\"dataframe\">\n",
       "  <thead>\n",
       "    <tr style=\"text-align: right;\">\n",
       "      <th></th>\n",
       "      <th>adult_mortality</th>\n",
       "      <th>bmi</th>\n",
       "      <th>hiv_aids</th>\n",
       "      <th>income_comp_res</th>\n",
       "      <th>schooling</th>\n",
       "    </tr>\n",
       "  </thead>\n",
       "  <tbody>\n",
       "    <tr>\n",
       "      <th>count</th>\n",
       "      <td>1941.000000</td>\n",
       "      <td>1941.000000</td>\n",
       "      <td>1941.000000</td>\n",
       "      <td>1941.000000</td>\n",
       "      <td>1941.000000</td>\n",
       "    </tr>\n",
       "    <tr>\n",
       "      <th>mean</th>\n",
       "      <td>184.694487</td>\n",
       "      <td>35.280938</td>\n",
       "      <td>2.100979</td>\n",
       "      <td>0.581410</td>\n",
       "      <td>11.201082</td>\n",
       "    </tr>\n",
       "    <tr>\n",
       "      <th>std</th>\n",
       "      <td>128.473544</td>\n",
       "      <td>19.412908</td>\n",
       "      <td>5.506793</td>\n",
       "      <td>0.200643</td>\n",
       "      <td>3.018143</td>\n",
       "    </tr>\n",
       "    <tr>\n",
       "      <th>min</th>\n",
       "      <td>1.000000</td>\n",
       "      <td>1.000000</td>\n",
       "      <td>0.100000</td>\n",
       "      <td>0.000000</td>\n",
       "      <td>0.000000</td>\n",
       "    </tr>\n",
       "    <tr>\n",
       "      <th>25%</th>\n",
       "      <td>94.000000</td>\n",
       "      <td>18.300000</td>\n",
       "      <td>0.100000</td>\n",
       "      <td>0.474000</td>\n",
       "      <td>9.700000</td>\n",
       "    </tr>\n",
       "    <tr>\n",
       "      <th>50%</th>\n",
       "      <td>163.000000</td>\n",
       "      <td>35.200000</td>\n",
       "      <td>0.100000</td>\n",
       "      <td>0.631000</td>\n",
       "      <td>11.700000</td>\n",
       "    </tr>\n",
       "    <tr>\n",
       "      <th>75%</th>\n",
       "      <td>254.000000</td>\n",
       "      <td>53.200000</td>\n",
       "      <td>1.500000</td>\n",
       "      <td>0.721000</td>\n",
       "      <td>13.100000</td>\n",
       "    </tr>\n",
       "    <tr>\n",
       "      <th>max</th>\n",
       "      <td>723.000000</td>\n",
       "      <td>82.800000</td>\n",
       "      <td>50.300000</td>\n",
       "      <td>0.919000</td>\n",
       "      <td>17.700000</td>\n",
       "    </tr>\n",
       "  </tbody>\n",
       "</table>\n",
       "</div>"
      ],
      "text/plain": [
       "       adult_mortality          bmi     hiv_aids  income_comp_res    schooling\n",
       "count      1941.000000  1941.000000  1941.000000      1941.000000  1941.000000\n",
       "mean        184.694487    35.280938     2.100979         0.581410    11.201082\n",
       "std         128.473544    19.412908     5.506793         0.200643     3.018143\n",
       "min           1.000000     1.000000     0.100000         0.000000     0.000000\n",
       "25%          94.000000    18.300000     0.100000         0.474000     9.700000\n",
       "50%         163.000000    35.200000     0.100000         0.631000    11.700000\n",
       "75%         254.000000    53.200000     1.500000         0.721000    13.100000\n",
       "max         723.000000    82.800000    50.300000         0.919000    17.700000"
      ]
     },
     "execution_count": 6,
     "metadata": {},
     "output_type": "execute_result"
    }
   ],
   "source": [
    "features.describe()"
   ]
  },
  {
   "cell_type": "code",
   "execution_count": 7,
   "id": "3024ea73",
   "metadata": {},
   "outputs": [],
   "source": [
    "# Hold out cross-validation\n",
    "X_train, X_valid, y_train, y_valid = train_test_split(features.adult_mortality.values.reshape(-1, 1), y, random_state=0)"
   ]
  },
  {
   "cell_type": "markdown",
   "id": "5877fa22",
   "metadata": {},
   "source": [
    "# Model training and evaluation"
   ]
  },
  {
   "cell_type": "markdown",
   "id": "8241fcd8",
   "metadata": {},
   "source": [
    "## OLS LinearRegression model"
   ]
  },
  {
   "cell_type": "code",
   "execution_count": 24,
   "id": "3240e6ed",
   "metadata": {},
   "outputs": [],
   "source": [
    "#Define the model (Univariate) \n",
    "#ols_model = make_pipeline(StandardScaler(with_mean=True), LinearRegression()) # Does not improve even by normalizing\n",
    "ols_model = LinearRegression()\n",
    "\n",
    "# Train the model\n",
    "ols_model.fit(X_train, y_train)\n",
    "preds_valid = ols_model.predict(X_valid)"
   ]
  },
  {
   "cell_type": "code",
   "execution_count": 25,
   "id": "28e621e7",
   "metadata": {},
   "outputs": [
    {
     "name": "stdout",
     "output_type": "stream",
     "text": [
      "0.49418630381686135\n"
     ]
    }
   ],
   "source": [
    "print(r2_score(y_valid, preds_valid))"
   ]
  },
  {
   "cell_type": "code",
   "execution_count": 26,
   "id": "a023fd0e",
   "metadata": {},
   "outputs": [
    {
     "name": "stdout",
     "output_type": "stream",
     "text": [
      "6.402646983147768\n"
     ]
    }
   ],
   "source": [
    "# print MSE\n",
    "print(mean_squared_error(y_valid, preds_valid, squared=False))"
   ]
  },
  {
   "cell_type": "code",
   "execution_count": 11,
   "id": "57bea8b1",
   "metadata": {},
   "outputs": [
    {
     "name": "stdout",
     "output_type": "stream",
     "text": [
      "Slope :  [-0.0463056]\n",
      "Intercept:  75.47058150201377\n"
     ]
    }
   ],
   "source": [
    "print(\"Slope : \", ols_model.coef_)\n",
    "print(\"Intercept: \", ols_model.intercept_)"
   ]
  },
  {
   "cell_type": "code",
   "execution_count": 12,
   "id": "9f742c22",
   "metadata": {},
   "outputs": [
    {
     "data": {
      "image/png": "[encoded data removed]",
      "text/plain": [
       "<Figure size 432x288 with 1 Axes>"
      ]
     },
     "metadata": {
      "needs_background": "light"
     },
     "output_type": "display_data"
    }
   ],
   "source": [
    "plt.scatter(X_train, y_train, color=\"b\", label=\"train data\")\n",
    "plt.scatter(X_valid, y_valid, color=\"r\", label=\"valid data\")\n",
    "plt.plot(X_valid, preds_valid, color=\"black\")\n",
    "plt.legend(loc=9)\n",
    "plt.xlabel(\"adult mortality\")\n",
    "plt.ylabel(\"life expectancy\")\n",
    "\n",
    "plt.show()"
   ]
  },
  {
   "cell_type": "code",
   "execution_count": 13,
   "id": "3a4c9c83",
   "metadata": {},
   "outputs": [],
   "source": [
    "# K-fold cross-validation\n",
    "cv_model = LinearRegression()\n",
    "am_variable = features.adult_mortality.values.reshape(-1, 1)"
   ]
  },
  {
   "cell_type": "code",
   "execution_count": 14,
   "id": "d034e1e0",
   "metadata": {},
   "outputs": [
    {
     "name": "stdout",
     "output_type": "stream",
     "text": [
      "Average MSE score: 44.61328392677\n"
     ]
    }
   ],
   "source": [
    "scores = -1 * cross_val_score(cv_model, am_variable, y,\n",
    "                              cv=5,\n",
    "                              scoring='neg_mean_squared_error')\n",
    "\n",
    "print(\"Average MSE score:\", scores.mean())"
   ]
  },
  {
   "cell_type": "markdown",
   "id": "404cd534",
   "metadata": {},
   "source": [
    "## XGBoost"
   ]
  },
  {
   "cell_type": "code",
   "execution_count": 63,
   "id": "3dc59873",
   "metadata": {},
   "outputs": [
    {
     "data": {
      "text/plain": [
       "XGBRegressor(base_score=0.5, booster='gbtree', colsample_bylevel=1,\n",
       "             colsample_bynode=1, colsample_bytree=1, enable_categorical=False,\n",
       "             gamma=0, gpu_id=-1, importance_type=None,\n",
       "             interaction_constraints='', learning_rate=0.079, max_delta_step=0,\n",
       "             max_depth=6, min_child_weight=1, missing=nan,\n",
       "             monotone_constraints='()', n_estimators=850, n_jobs=4,\n",
       "             num_parallel_tree=1, predictor='auto', random_state=0, reg_alpha=0,\n",
       "             reg_lambda=1, scale_pos_weight=1, subsample=1, tree_method='exact',\n",
       "             validate_parameters=1, verbosity=None)"
      ]
     },
     "execution_count": 63,
     "metadata": {},
     "output_type": "execute_result"
    }
   ],
   "source": [
    "xgb_model = XGBRegressor(n_estimators=850, learning_rate=0.079)\n",
    "xgb_model.fit(X_train, y_train,\n",
    "              early_stopping_rounds=5,\n",
    "              eval_set=[(X_valid, y_valid)],\n",
    "              verbose=False)"
   ]
  },
  {
   "cell_type": "code",
   "execution_count": 64,
   "id": "2dfa4efb",
   "metadata": {},
   "outputs": [
    {
     "name": "stdout",
     "output_type": "stream",
     "text": [
      "5.424370441854262\n"
     ]
    }
   ],
   "source": [
    "xgb_preds_valid = xgb_model.predict(X_valid)\n",
    "# print MSE\n",
    "print(mean_squared_error(y_valid, xgb_preds_valid, squared=False))"
   ]
  },
  {
   "cell_type": "code",
   "execution_count": 65,
   "id": "47d23853",
   "metadata": {},
   "outputs": [
    {
     "name": "stdout",
     "output_type": "stream",
     "text": [
      "0.6369468978831363\n"
     ]
    }
   ],
   "source": [
    "print(r2_score(y_valid, xgb_preds_valid))"
   ]
  },
  {
   "cell_type": "code",
   "execution_count": 66,
   "id": "59609d0d",
   "metadata": {},
   "outputs": [
    {
     "name": "stdout",
     "output_type": "stream",
     "text": [
      "0.6369468978831363\n"
     ]
    }
   ],
   "source": [
    "print(xgb_model.score(X_valid, y_valid))"
   ]
  },
  {
   "cell_type": "code",
   "execution_count": 67,
   "id": "b5ef42e2",
   "metadata": {},
   "outputs": [
    {
     "data": {
      "image/png": "[encoded data removed]",
      "text/plain": [
       "<Figure size 432x288 with 1 Axes>"
      ]
     },
     "metadata": {
      "needs_background": "light"
     },
     "output_type": "display_data"
    }
   ],
   "source": [
    "plt.scatter(X_train, y_train, color=\"b\", label=\"train data\")\n",
    "plt.scatter(X_valid, y_valid, color=\"r\", label=\"valid data\")\n",
    "plt.plot(X_valid, xgb_preds_valid, color=\"black\")\n",
    "plt.legend(loc=9)\n",
    "plt.xlabel(\"adult mortality\")\n",
    "plt.ylabel(\"life expectancy\")\n",
    "\n",
    "plt.show()"
   ]
  },
  {
   "cell_type": "markdown",
   "id": "237910b5",
   "metadata": {},
   "source": [
    "## RANdom SAmple Consensus LR Model"
   ]
  },
  {
   "cell_type": "code",
   "execution_count": 59,
   "id": "f932433b",
   "metadata": {},
   "outputs": [
    {
     "data": {
      "text/plain": [
       "RANSACRegressor(base_estimator=LinearRegression(), loss='squared_error',\n",
       "                max_trials=1000, min_samples=449, random_state=0,\n",
       "                residual_threshold=5.0)"
      ]
     },
     "execution_count": 59,
     "metadata": {},
     "output_type": "execute_result"
    }
   ],
   "source": [
    "# RANSAC model to deal with outliers\n",
    "ransac_model = RANSACRegressor(LinearRegression(), \n",
    "                              max_trials=1000,\n",
    "                              min_samples=449,\n",
    "                              loss='squared_error',\n",
    "                              residual_threshold=5.0,\n",
    "                              random_state=0)\n",
    "ransac_model.fit(X_train, y_train)"
   ]
  },
  {
   "cell_type": "code",
   "execution_count": 60,
   "id": "4f0f5dcd",
   "metadata": {},
   "outputs": [
    {
     "name": "stdout",
     "output_type": "stream",
     "text": [
      "6.396386312930491\n"
     ]
    }
   ],
   "source": [
    "ransac_preds_valid = ransac_model.predict(X_valid)\n",
    "# print MSE\n",
    "print(mean_squared_error(y_valid, ransac_preds_valid, squared=False))"
   ]
  },
  {
   "cell_type": "code",
   "execution_count": 61,
   "id": "a12bba71",
   "metadata": {},
   "outputs": [
    {
     "name": "stdout",
     "output_type": "stream",
     "text": [
      "0.49517501504701844\n"
     ]
    }
   ],
   "source": [
    "print(r2_score(y_valid, ransac_preds_valid))"
   ]
  },
  {
   "cell_type": "code",
   "execution_count": 62,
   "id": "e1ba5e51",
   "metadata": {},
   "outputs": [
    {
     "data": {
      "image/png": "[encoded data removed]",
      "text/plain": [
       "<Figure size 432x288 with 1 Axes>"
      ]
     },
     "metadata": {
      "needs_background": "light"
     },
     "output_type": "display_data"
    }
   ],
   "source": [
    "plt.scatter(X_train, y_train, color=\"b\", label=\"train data\")\n",
    "plt.scatter(X_valid, y_valid, color=\"r\", label=\"valid data\")\n",
    "plt.plot(X_valid, ransac_preds_valid, color=\"black\")\n",
    "plt.legend(loc=9)\n",
    "plt.xlabel(\"adult mortality\")\n",
    "plt.ylabel(\"life expectancy\")\n",
    "\n",
    "plt.show()"
   ]
  },
  {
   "cell_type": "markdown",
   "id": "014664c8",
   "metadata": {},
   "source": [
    "## SGD Model"
   ]
  },
  {
   "cell_type": "code",
   "execution_count": 68,
   "id": "6a250624",
   "metadata": {},
   "outputs": [
    {
     "data": {
      "text/plain": [
       "Pipeline(steps=[('standardscaler', StandardScaler()),\n",
       "                ('sgdregressor',\n",
       "                 SGDRegressor(alpha=0.001, learning_rate='optimal',\n",
       "                              loss='huber', max_iter=1500))])"
      ]
     },
     "execution_count": 68,
     "metadata": {},
     "output_type": "execute_result"
    }
   ],
   "source": [
    "reg = make_pipeline(StandardScaler(), SGDRegressor(alpha=0.001,\n",
    "                                                   max_iter=1500, \n",
    "                                                   learning_rate='optimal',\n",
    "                                                  loss='huber'))\n",
    "reg.fit(X_train, y_train)"
   ]
  },
  {
   "cell_type": "code",
   "execution_count": 69,
   "id": "d8452b95",
   "metadata": {},
   "outputs": [],
   "source": [
    "gd_preds_valid = reg.predict(X_valid)"
   ]
  },
  {
   "cell_type": "code",
   "execution_count": 70,
   "id": "9992be03",
   "metadata": {},
   "outputs": [
    {
     "name": "stdout",
     "output_type": "stream",
     "text": [
      "6.480961642953623\n"
     ]
    }
   ],
   "source": [
    "# print MSE\n",
    "print(mean_squared_error(y_valid, gd_preds_valid, squared=False))"
   ]
  },
  {
   "cell_type": "code",
   "execution_count": 71,
   "id": "8da69a72",
   "metadata": {},
   "outputs": [
    {
     "name": "stdout",
     "output_type": "stream",
     "text": [
      "0.4817367995143249\n"
     ]
    }
   ],
   "source": [
    "print(r2_score(y_valid, gd_preds_valid))"
   ]
  },
  {
   "cell_type": "code",
   "execution_count": 26,
   "id": "c176de85",
   "metadata": {},
   "outputs": [
    {
     "name": "stdout",
     "output_type": "stream",
     "text": [
      "Best score: 0.001825403788020785\n"
     ]
    }
   ],
   "source": [
    "# Grid search \n",
    "model = SGDRegressor(max_iter=1500)\n",
    "param_grid = {\n",
    "    'alpha': 10.0 ** -np.arange(1, 7),\n",
    "    'loss': ['squared_error', 'huber', 'epsilon_insensitive'],\n",
    "    'penalty': ['l2', 'l1', 'elasticnet'],\n",
    "    'learning_rate': ['constant', 'optimal', 'invscaling'],\n",
    "}\n",
    "sgd = GridSearchCV(model, param_grid)\n",
    "sgd.fit(X_train, y_train)\n",
    "print(\"Best score: \" + str(sgd.best_score_))"
   ]
  },
  {
   "cell_type": "code",
   "execution_count": 27,
   "id": "03c61fae",
   "metadata": {},
   "outputs": [
    {
     "name": "stdout",
     "output_type": "stream",
     "text": [
      "SGD best params : {'alpha': 0.001, 'learning_rate': 'optimal', 'loss': 'huber', 'penalty': 'elasticnet'}\n"
     ]
    }
   ],
   "source": [
    "print(\"SGD best params :\", sgd.best_params_)"
   ]
  },
  {
   "cell_type": "code",
   "execution_count": 28,
   "id": "a1f77b4d",
   "metadata": {},
   "outputs": [
    {
     "name": "stdout",
     "output_type": "stream",
     "text": [
      "9.017781154771397\n"
     ]
    }
   ],
   "source": [
    "# print MSE\n",
    "print(mean_squared_error(y_valid, sgd.predict(X_valid), squared=False))"
   ]
  },
  {
   "cell_type": "markdown",
   "id": "bc081bed",
   "metadata": {},
   "source": [
    "# Model inference"
   ]
  },
  {
   "cell_type": "code",
   "execution_count": 29,
   "id": "e39c3e15",
   "metadata": {},
   "outputs": [],
   "source": [
    "final_preds_test = ols_model.predict(test_data.adult_mortality.values.reshape(-1, 1))"
   ]
  },
  {
   "cell_type": "code",
   "execution_count": 33,
   "id": "21f814cf",
   "metadata": {},
   "outputs": [],
   "source": [
    "# Dataframe of prediction outcome for each individual row in test data\n",
    "output = pd.DataFrame({'AdultMortality': test_data.adult_mortality,\n",
    "                       'Predicted LifeExpectancy': final_preds_test})"
   ]
  },
  {
   "cell_type": "code",
   "execution_count": 34,
   "id": "285b5ebc",
   "metadata": {},
   "outputs": [
    {
     "data": {
      "text/html": [
       "<div>\n",
       "<style scoped>\n",
       "    .dataframe tbody tr th:only-of-type {\n",
       "        vertical-align: middle;\n",
       "    }\n",
       "\n",
       "    .dataframe tbody tr th {\n",
       "        vertical-align: top;\n",
       "    }\n",
       "\n",
       "    .dataframe thead th {\n",
       "        text-align: right;\n",
       "    }\n",
       "</style>\n",
       "<table border=\"1\" class=\"dataframe\">\n",
       "  <thead>\n",
       "    <tr style=\"text-align: right;\">\n",
       "      <th></th>\n",
       "      <th>AdultMortality</th>\n",
       "      <th>Predicted LifeExpectancy</th>\n",
       "    </tr>\n",
       "  </thead>\n",
       "  <tbody>\n",
       "    <tr>\n",
       "      <th>0</th>\n",
       "      <td>268.0</td>\n",
       "      <td>63.060680</td>\n",
       "    </tr>\n",
       "    <tr>\n",
       "      <th>1</th>\n",
       "      <td>291.0</td>\n",
       "      <td>61.995651</td>\n",
       "    </tr>\n",
       "    <tr>\n",
       "      <th>2</th>\n",
       "      <td>316.0</td>\n",
       "      <td>60.838011</td>\n",
       "    </tr>\n",
       "    <tr>\n",
       "      <th>3</th>\n",
       "      <td>88.0</td>\n",
       "      <td>71.395688</td>\n",
       "    </tr>\n",
       "    <tr>\n",
       "      <th>4</th>\n",
       "      <td>91.0</td>\n",
       "      <td>71.256772</td>\n",
       "    </tr>\n",
       "    <tr>\n",
       "      <th>...</th>\n",
       "      <td>...</td>\n",
       "      <td>...</td>\n",
       "    </tr>\n",
       "    <tr>\n",
       "      <th>480</th>\n",
       "      <td>69.0</td>\n",
       "      <td>72.275495</td>\n",
       "    </tr>\n",
       "    <tr>\n",
       "      <th>481</th>\n",
       "      <td>336.0</td>\n",
       "      <td>59.911899</td>\n",
       "    </tr>\n",
       "    <tr>\n",
       "      <th>482</th>\n",
       "      <td>371.0</td>\n",
       "      <td>58.291203</td>\n",
       "    </tr>\n",
       "    <tr>\n",
       "      <th>483</th>\n",
       "      <td>527.0</td>\n",
       "      <td>51.067529</td>\n",
       "    </tr>\n",
       "    <tr>\n",
       "      <th>484</th>\n",
       "      <td>686.0</td>\n",
       "      <td>43.704938</td>\n",
       "    </tr>\n",
       "  </tbody>\n",
       "</table>\n",
       "<p>485 rows × 2 columns</p>\n",
       "</div>"
      ],
      "text/plain": [
       "     AdultMortality  Predicted LifeExpectancy\n",
       "0             268.0                 63.060680\n",
       "1             291.0                 61.995651\n",
       "2             316.0                 60.838011\n",
       "3              88.0                 71.395688\n",
       "4              91.0                 71.256772\n",
       "..              ...                       ...\n",
       "480            69.0                 72.275495\n",
       "481           336.0                 59.911899\n",
       "482           371.0                 58.291203\n",
       "483           527.0                 51.067529\n",
       "484           686.0                 43.704938\n",
       "\n",
       "[485 rows x 2 columns]"
      ]
     },
     "execution_count": 34,
     "metadata": {},
     "output_type": "execute_result"
    }
   ],
   "source": [
    "output"
   ]
  },
  {
   "cell_type": "code",
   "execution_count": null,
   "id": "3282a14a",
   "metadata": {},
   "outputs": [],
   "source": []
  }
 ],
 "metadata": {
  "kernelspec": {
   "display_name": "Python 3",
   "language": "python",
   "name": "python3"
  },
  "language_info": {
   "codemirror_mode": {
    "name": "ipython",
    "version": 3
   },
   "file_extension": ".py",
   "mimetype": "text/x-python",
   "name": "python",
   "nbconvert_exporter": "python",
   "pygments_lexer": "ipython3",
   "version": "3.8.10"
  }
 },
 "nbformat": 4,
 "nbformat_minor": 5
}
